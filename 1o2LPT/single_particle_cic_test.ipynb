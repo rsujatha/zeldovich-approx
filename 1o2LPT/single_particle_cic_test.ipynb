{
 "cells": [
  {
   "cell_type": "code",
   "execution_count": 11,
   "metadata": {
    "collapsed": true
   },
   "outputs": [],
   "source": [
    "import intpol as ip\n",
    "import numpy as np"
   ]
  },
  {
   "cell_type": "code",
   "execution_count": 46,
   "metadata": {},
   "outputs": [],
   "source": [
    "instance = ip.pmInterpolation()\n",
    "Lbox = 4\n",
    "GridSize = 4\n",
    "PositionX=np.array([2.4])\n",
    "PositionY=np.array([1.1])\n",
    "PositionZ=np.array([3.2])\n",
    "delta =  instance.cic(PositionX,PositionY,PositionZ,Lbox=Lbox,GridSize=GridSize)\n",
    "dx = Lbox/np.float(GridSize)"
   ]
  },
  {
   "cell_type": "code",
   "execution_count": 47,
   "metadata": {},
   "outputs": [
    {
     "name": "stdout",
     "output_type": "stream",
     "text": [
      "2 1 3\n"
     ]
    }
   ],
   "source": [
    "i = int(np.floor(PositionX/dx))\n",
    "j = int(np.floor(PositionY/dx))\n",
    "k = int(np.floor(PositionZ/dx))\n",
    "print i,j,k\n",
    "delx = PositionX-i*dx\n",
    "dely = PositionY-j*dx\n",
    "delz = PositionZ-k*dx"
   ]
  },
  {
   "cell_type": "code",
   "execution_count": 48,
   "metadata": {},
   "outputs": [],
   "source": [
    "weight0 = (dx-delx)*(dx-dely)*(dx-delz)/(dx)**3 ## belonging to i,j,k\n",
    "weight1 = (delx)*(dx-dely)*(dx-delz)/(dx)**3    ## belonging to i+1,j,k\n",
    "weight2 = (delx)*(dely)*(dx-delz)/(dx)**3       ## belonging to i+1,j+1,k\n",
    "weight3 = (dx-delx)*(dely)*(dx-delz)/(dx)**3   ## belonging to i,j+1,k\n",
    "weight4 = (dx-delx)*(dx-dely)*(delz)/(dx)**3   ## belonging to i,j,k+1\n",
    "weight5 = (delx)*(dx-dely)*(delz)/(dx)**3      ## belonging to i+1,j,k+1\n",
    "weight6 = (delx)*(dely)*(delz)/(dx)**3         ## belonging to i+1,j+1,k+1\n",
    "weight7 = (dx-delx)*(dely)*(delz)/(dx)**3      ## belonging to i,j+1,k+1"
   ]
  },
  {
   "cell_type": "code",
   "execution_count": 49,
   "metadata": {},
   "outputs": [
    {
     "name": "stdout",
     "output_type": "stream",
     "text": [
      "[ 0.432] [ 0.288] [ 0.032] [ 0.048] [ 0.108] [ 0.072] [ 0.008] [ 0.012]\n"
     ]
    }
   ],
   "source": [
    "print weight0,weight1,weight2,weight3,weight4,weight5,weight6,weight7"
   ]
  },
  {
   "cell_type": "code",
   "execution_count": 53,
   "metadata": {},
   "outputs": [
    {
     "name": "stdout",
     "output_type": "stream",
     "text": [
      "0.432 0.288 0.032 0.048 0.108 0.072 0.008 0.012\n"
     ]
    }
   ],
   "source": [
    "print delta[i,j,k],delta[np.mod(i+1,GridSize),j,k],delta[np.mod(i+1,GridSize),np.mod(j+1,GridSize),k],delta[i,np.mod(j+1,GridSize),k],delta[i,j,np.mod(k+1,GridSize)],delta[np.mod(i+1,GridSize),j,np.mod(k+1,GridSize)],delta[np.mod(i+1,GridSize),np.mod(j+1,GridSize),np.mod(k+1,GridSize)],delta[i,np.mod(j+1,GridSize),np.mod(k+1,GridSize)]"
   ]
  },
  {
   "cell_type": "code",
   "execution_count": 45,
   "metadata": {},
   "outputs": [
    {
     "name": "stdout",
     "output_type": "stream",
     "text": [
      "1.0\n"
     ]
    }
   ],
   "source": [
    "print np.sum(delta)"
   ]
  },
  {
   "cell_type": "code",
   "execution_count": null,
   "metadata": {
    "collapsed": true
   },
   "outputs": [],
   "source": []
  }
 ],
 "metadata": {
  "kernelspec": {
   "display_name": "Python 2",
   "language": "python",
   "name": "python2"
  },
  "language_info": {
   "codemirror_mode": {
    "name": "ipython",
    "version": 2
   },
   "file_extension": ".py",
   "mimetype": "text/x-python",
   "name": "python",
   "nbconvert_exporter": "python",
   "pygments_lexer": "ipython2",
   "version": "2.7.12"
  }
 },
 "nbformat": 4,
 "nbformat_minor": 2
}
