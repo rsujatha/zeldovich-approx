{
 "cells": [
  {
   "cell_type": "code",
   "execution_count": 1,
   "metadata": {},
   "outputs": [
    {
     "name": "stdout",
     "output_type": "stream",
     "text": [
      "['', '/home/sujatha/anaconda2/lib/python27.zip', '/home/sujatha/anaconda2/lib/python2.7', '/home/sujatha/anaconda2/lib/python2.7/plat-linux2', '/home/sujatha/anaconda2/lib/python2.7/lib-tk', '/home/sujatha/anaconda2/lib/python2.7/lib-old', '/home/sujatha/anaconda2/lib/python2.7/lib-dynload', '/home/sujatha/.local/lib/python2.7/site-packages', '/home/sujatha/anaconda2/lib/python2.7/site-packages', '/home/sujatha/anaconda2/lib/python2.7/site-packages/Sphinx-1.5.6-py2.7.egg', '/home/sujatha/anaconda2/lib/python2.7/site-packages/setuptools-27.2.0-py2.7.egg', '/home/sujatha/anaconda2/lib/python2.7/site-packages/IPython/extensions', '/home/sujatha/.ipython']\n"
     ]
    }
   ],
   "source": [
    "import numpy as np\n",
    "import matplotlib.pyplot as plt\n",
    "import CosmologyLibrary as cslb\n",
    "import cosmolopy.perturbation as cseu\n",
    "import cosmolopy as csp\n",
    "import sys\n",
    "\n",
    "print(sys.path)\n",
    "sys.path.append(\"~/Downloads/CAMB-May2016/pycamb\")\n",
    "sys.path.append(\"~/Downloads/CAMB-May2016\")\n",
    "import matplotlib.gridspec as gridspec"
   ]
  },
  {
   "cell_type": "markdown",
   "metadata": {},
   "source": [
    "### Initialising Cosmological Parameters "
   ]
  },
  {
   "cell_type": "code",
   "execution_count": 10,
   "metadata": {},
   "outputs": [
    {
     "name": "stdout",
     "output_type": "stream",
     "text": [
      "0.3 0.7\n"
     ]
    }
   ],
   "source": [
    "params = cslb.cosmology()\n",
    "Omega_matter = params.Omega_matter\n",
    "Omega_lambda = params.Omega_lambda\n",
    "print Omega_matter,Omega_lambda\n",
    "#cosmology = csp.parameters.WMAP7_BAO_H0_mean(flat=False, extras=True)\n",
    "cosmology = {'tau': 0.087, 'omega_n_0': 0.0, 'sigma_8': 0.8, 'h': 0.7, 'N_nu': 0, 'omega_lambda_0': 0.7, 'n': 0.963, 'Y_He': 0.24, 'z_reion': 10.4, 'omega_b_0': 0.045, 't_0': 13.75, 'omega_M_0': 0.3}"
   ]
  },
  {
   "cell_type": "markdown",
   "metadata": {},
   "source": [
    "## Transfer Function"
   ]
  },
  {
   "cell_type": "code",
   "execution_count": 11,
   "metadata": {},
   "outputs": [
    {
     "data": {
      "image/png": "[encoded data removed]",
      "text/plain": [
       "<matplotlib.figure.Figure at 0x7fe6c77702d0>"
      ]
     },
     "metadata": {},
     "output_type": "display_data"
    }
   ],
   "source": [
    "k = np.logspace(-5,2,100)\n",
    "h=0.7\n",
    "kh=k/h\n",
    "T_bbks = cslb.BBKS_tf(kh)\n",
    "T_eu = cseu.transfer_function_EH(k, **cosmology)\n",
    "#plt.plot(k,T_bbks,label='BBKS')\n",
    "#plt.plot(k/0.7,T_eu[0],label='EU')\n",
    "plt.loglog(kh,T_bbks,label='BBKS')\n",
    "plt.loglog(kh,T_eu[0],label='EU')\n",
    "plt.xlabel('k  (h$Mpc^{-1}$)',fontsize=20)\n",
    "plt.ylabel('T(k)',fontsize=25)\n",
    "plt.ylim([1e-5,10])\n",
    "#plt.xscale('log')\n",
    "plt.legend()\n",
    "plt.show()\n",
    "plt.clf()"
   ]
  },
  {
   "cell_type": "markdown",
   "metadata": {},
   "source": [
    "## Power Spectrum"
   ]
  },
  {
   "cell_type": "code",
   "execution_count": 1,
   "metadata": {},
   "outputs": [
    {
     "ename": "NameError",
     "evalue": "name 'plt' is not defined",
     "output_type": "error",
     "traceback": [
      "\u001b[0;31m---------------------------------------------------------------------------\u001b[0m",
      "\u001b[0;31mNameError\u001b[0m                                 Traceback (most recent call last)",
      "\u001b[0;32m<ipython-input-1-0e4f0d7996d5>\u001b[0m in \u001b[0;36m<module>\u001b[0;34m()\u001b[0m\n\u001b[0;32m----> 1\u001b[0;31m \u001b[0mfig\u001b[0m\u001b[0;34m=\u001b[0m\u001b[0mplt\u001b[0m\u001b[0;34m.\u001b[0m\u001b[0mfigure\u001b[0m\u001b[0;34m(\u001b[0m\u001b[0mfigsize\u001b[0m\u001b[0;34m=\u001b[0m\u001b[0;34m(\u001b[0m\u001b[0;36m5\u001b[0m\u001b[0;34m,\u001b[0m\u001b[0;36m5\u001b[0m\u001b[0;34m)\u001b[0m\u001b[0;34m,\u001b[0m \u001b[0mdpi\u001b[0m\u001b[0;34m=\u001b[0m \u001b[0;36m100\u001b[0m\u001b[0;34m,\u001b[0m \u001b[0mfacecolor\u001b[0m\u001b[0;34m=\u001b[0m\u001b[0;34m'w'\u001b[0m\u001b[0;34m,\u001b[0m \u001b[0medgecolor\u001b[0m\u001b[0;34m=\u001b[0m\u001b[0;34m'k'\u001b[0m\u001b[0;34m)\u001b[0m\u001b[0;34m\u001b[0m\u001b[0m\n\u001b[0m\u001b[1;32m      2\u001b[0m \u001b[0mgs\u001b[0m \u001b[0;34m=\u001b[0m \u001b[0mgridspec\u001b[0m\u001b[0;34m.\u001b[0m\u001b[0mGridSpec\u001b[0m\u001b[0;34m(\u001b[0m\u001b[0;36m3\u001b[0m\u001b[0;34m,\u001b[0m \u001b[0;36m1\u001b[0m\u001b[0;34m)\u001b[0m\u001b[0;34m\u001b[0m\u001b[0m\n\u001b[1;32m      3\u001b[0m \u001b[0max1\u001b[0m \u001b[0;34m=\u001b[0m \u001b[0mplt\u001b[0m\u001b[0;34m.\u001b[0m\u001b[0msubplot\u001b[0m\u001b[0;34m(\u001b[0m\u001b[0mgs\u001b[0m\u001b[0;34m[\u001b[0m\u001b[0;34m:\u001b[0m\u001b[0;34m-\u001b[0m\u001b[0;36m1\u001b[0m\u001b[0;34m,\u001b[0m\u001b[0;34m:\u001b[0m\u001b[0;34m]\u001b[0m\u001b[0;34m)\u001b[0m\u001b[0;34m\u001b[0m\u001b[0m\n\u001b[1;32m      4\u001b[0m \u001b[0mPS_bbks\u001b[0m \u001b[0;34m=\u001b[0m \u001b[0mcslb\u001b[0m\u001b[0;34m.\u001b[0m\u001b[0mPS\u001b[0m\u001b[0;34m(\u001b[0m\u001b[0mkh\u001b[0m\u001b[0;34m,\u001b[0m\u001b[0;36m0.0\u001b[0m\u001b[0;34m,\u001b[0m\u001b[0mT_bbks\u001b[0m\u001b[0;34m)\u001b[0m\u001b[0;34m\u001b[0m\u001b[0m\n\u001b[1;32m      5\u001b[0m \u001b[0mPS_eu\u001b[0m \u001b[0;34m=\u001b[0m \u001b[0mcslb\u001b[0m\u001b[0;34m.\u001b[0m\u001b[0mPS\u001b[0m\u001b[0;34m(\u001b[0m\u001b[0mkh\u001b[0m\u001b[0;34m,\u001b[0m\u001b[0;36m0.0\u001b[0m\u001b[0;34m,\u001b[0m\u001b[0mT_eu\u001b[0m\u001b[0;34m[\u001b[0m\u001b[0;36m0\u001b[0m\u001b[0;34m]\u001b[0m\u001b[0;34m)\u001b[0m\u001b[0;34m\u001b[0m\u001b[0m\n",
      "\u001b[0;31mNameError\u001b[0m: name 'plt' is not defined"
     ]
    }
   ],
   "source": [
    "fig=plt.figure(figsize=(5,5), dpi= 100, facecolor='w', edgecolor='k')\n",
    "gs = gridspec.GridSpec(3, 1)\n",
    "ax1 = plt.subplot(gs[:-1,:])\n",
    "PS_bbks = cslb.PS(kh,0.0,T_bbks)\n",
    "PS_eu = cslb.PS(kh,0.0,T_eu[0])\n",
    "ax1.loglog(kh,PS_bbks,label='BBKS')\n",
    "ax1.loglog(kh,PS_eu,label='EU')\n",
    "plt.setp(ax1.get_xticklabels(), visible=True)\n",
    "ax1.set_ylabel('P(k)  ($h^{-1}Mpc)^3$')\n",
    "plt.legend()\n",
    "ax2 = plt.subplot(gs[2, :])\n",
    "ax2.semilogx(kh,PS_bbks/PS_eu)\n",
    "gs.update(hspace=0, wspace=0)\n",
    "ax2.set_xlabel('k  (h$Mpc^{-1}$)')\n",
    "ax2.set_ylabel('$P_{bbks}/P_{EHu}$')\n",
    "#ax1.xaxis.set_tick_params(size=10)\n",
    "#ax1.patch.set_facecolor('None')\n",
    "#ax2.patch.set_facecolor('None')\n",
    "ax1.tick_params(direction='in',which='both')\n",
    "plt.show()"
   ]
  },
  {
   "cell_type": "code",
   "execution_count": null,
   "metadata": {
    "collapsed": true
   },
   "outputs": [],
   "source": []
  }
 ],
 "metadata": {
  "kernelspec": {
   "display_name": "Python 2",
   "language": "python",
   "name": "python2"
  },
  "language_info": {
   "codemirror_mode": {
    "name": "ipython",
    "version": 2
   },
   "file_extension": ".py",
   "mimetype": "text/x-python",
   "name": "python",
   "nbconvert_exporter": "python",
   "pygments_lexer": "ipython2",
   "version": "2.7.13"
  }
 },
 "nbformat": 4,
 "nbformat_minor": 2
}
