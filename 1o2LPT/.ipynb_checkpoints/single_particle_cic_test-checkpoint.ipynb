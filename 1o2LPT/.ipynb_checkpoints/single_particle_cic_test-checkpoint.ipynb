{
 "cells": [
  {
   "cell_type": "code",
   "execution_count": 11,
   "metadata": {
    "collapsed": true
   },
   "outputs": [],
   "source": [
    "import intpol as ip\n",
    "import numpy as np"
   ]
  },
  {
   "cell_type": "code",
   "execution_count": 23,
   "metadata": {},
   "outputs": [],
   "source": [
    "instance = ip.pmInterpolation()\n",
    "Lbox = 4\n",
    "GridSize = 4\n",
    "PositionX=np.array([2.1])\n",
    "PositionY=np.array([2.1])\n",
    "PositionZ=np.array([2.1])\n",
    "delta =  instance.cic(PositionX,PositionY,PositionZ,Lbox=Lbox,GridSize=GridSize)\n",
    "dx = Lbox/np.float(GridSize)"
   ]
  },
  {
   "cell_type": "code",
   "execution_count": 25,
   "metadata": {},
   "outputs": [
    {
     "name": "stdout",
     "output_type": "stream",
     "text": [
      "[ 2.] [ 2.] [ 2.]\n"
     ]
    }
   ],
   "source": [
    "i = np.floor(PositionX/dx)\n",
    "j = np.floor(PositionY/dx)\n",
    "k = np.floor(PositionZ/dx)\n",
    "print i,j,k\n",
    "delx = PositionX-i*dx\n",
    "dely = PositionY-j*dx\n",
    "delz = PositionZ-k*dx"
   ]
  },
  {
   "cell_type": "code",
   "execution_count": null,
   "metadata": {
    "collapsed": true
   },
   "outputs": [],
   "source": [
    "weight0 = (dx-delx)*(dx-dely)*(dx-delz)/(dx)**3 ## belonging to i,j,k\n",
    "weight1 = (delx)*(dx-dely)*(dx-delz)/(dx)**3    ## belonging to i+1,j,k\n",
    "weight2 = (delx)*(dely)*(dx-delz)/(dx)**3"
   ]
  },
  {
   "cell_type": "code",
   "execution_count": 19,
   "metadata": {},
   "outputs": [
    {
     "name": "stdout",
     "output_type": "stream",
     "text": [
      "[[[ 0.     0.     0.     0.   ]\n",
      "  [ 0.     0.     0.     0.   ]\n",
      "  [ 0.     0.     0.     0.   ]\n",
      "  [ 0.     0.     0.     0.   ]]\n",
      "\n",
      " [[ 0.     0.     0.     0.   ]\n",
      "  [ 0.     0.     0.     0.   ]\n",
      "  [ 0.     0.     0.     0.   ]\n",
      "  [ 0.     0.     0.     0.   ]]\n",
      "\n",
      " [[ 0.     0.     0.     0.   ]\n",
      "  [ 0.     0.     0.     0.   ]\n",
      "  [ 0.     0.     0.729  0.081]\n",
      "  [ 0.     0.     0.081  0.009]]\n",
      "\n",
      " [[ 0.     0.     0.     0.   ]\n",
      "  [ 0.     0.     0.     0.   ]\n",
      "  [ 0.     0.     0.081  0.009]\n",
      "  [ 0.     0.     0.009  0.001]]]\n"
     ]
    }
   ],
   "source": [
    "print delta"
   ]
  },
  {
   "cell_type": "code",
   "execution_count": 21,
   "metadata": {},
   "outputs": [
    {
     "name": "stdout",
     "output_type": "stream",
     "text": [
      "1.0\n"
     ]
    }
   ],
   "source": [
    "print np.sum(delta)"
   ]
  },
  {
   "cell_type": "code",
   "execution_count": null,
   "metadata": {
    "collapsed": true
   },
   "outputs": [],
   "source": []
  }
 ],
 "metadata": {
  "kernelspec": {
   "display_name": "Python 2",
   "language": "python",
   "name": "python2"
  },
  "language_info": {
   "codemirror_mode": {
    "name": "ipython",
    "version": 2
   },
   "file_extension": ".py",
   "mimetype": "text/x-python",
   "name": "python",
   "nbconvert_exporter": "python",
   "pygments_lexer": "ipython2",
   "version": "2.7.13"
  }
 },
 "nbformat": 4,
 "nbformat_minor": 2
}
