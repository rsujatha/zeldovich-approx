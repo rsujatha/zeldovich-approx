{
 "cells": [
  {
   "cell_type": "code",
   "execution_count": 1,
   "metadata": {
    "collapsed": false,
    "slideshow": {
     "slide_type": "slide"
    }
   },
   "outputs": [],
   "source": [
    "import zeldovich as z\n",
    "import numpy as np\n",
    "import matplotlib.pyplot as plt\n",
    "import gc"
   ]
  },
  {
   "cell_type": "markdown",
   "metadata": {
    "slideshow": {
     "slide_type": "slide"
    }
   },
   "source": [
    "# Sanity check for initial Density Field Class"
   ]
  },
  {
   "cell_type": "code",
   "execution_count": 12,
   "metadata": {
    "collapsed": false
   },
   "outputs": [
    {
     "name": "stdout",
     "output_type": "stream",
     "text": [
      "Variance of  delta x 0.0181747260494\n",
      "Sum of Discrete Power Spectrum is  0.0158556287672\n",
      "0.01\n"
     ]
    }
   ],
   "source": [
    "a = z.initial_density_field()\n",
    "deltax=a.initial_deltax()\n",
    "GridSize = a.GridSize\n",
    "variance = a.var() ####variance of the real and imaginary part of deltak random number  \n",
    "variance = np.append(variance[:,:,::-2],variance)\n",
    "print 'Variance of  delta x' ,np.var(deltax)\n",
    "print 'Sum of Discrete Power Spectrum is ',np.sum(variance*2)\n",
    "x_array = a.x_range()\n",
    "print a.dx"
   ]
  },
  {
   "cell_type": "code",
   "execution_count": 13,
   "metadata": {
    "collapsed": false
   },
   "outputs": [
    {
     "data": {
      "text/plain": [
       "495"
      ]
     },
     "execution_count": 13,
     "metadata": {},
     "output_type": "execute_result"
    }
   ],
   "source": [
    "del a \n",
    "del variance\n",
    "gc.collect()\n"
   ]
  },
  {
   "cell_type": "markdown",
   "metadata": {},
   "source": [
    "# Sanity check for Interpolation method class"
   ]
  },
  {
   "cell_type": "code",
   "execution_count": null,
   "metadata": {
    "collapsed": false
   },
   "outputs": [],
   "source": [
    "a = z.zeldovich()\n",
    "Position = a.Position(RedShift=10)\n",
    "PositionX = Position[0,:,:,:].flatten()\n",
    "PositionY = Position[1,:,:,:].flatten()\n",
    "PositionZ = Position[2,:,:,:].flatten()\n",
    "b= z.pmInterpolation()\n",
    "Lbox = a.XSize\n",
    "R = 0.02\n",
    "ngp = b.ngp(PositionX,PositionY,PositionZ,Lbox,GridSize)\n",
    "ngps = b.ngp_smooth(PositionX,PositionY,PositionZ,Lbox,GridSize,R)\n",
    "cic = b.cic(PositionX,PositionY,PositionZ,Lbox,GridSize)\n",
    "cicl = b.cicl(PositionX,PositionY,PositionZ,Lbox,GridSize)\n"
   ]
  },
  {
   "cell_type": "markdown",
   "metadata": {},
   "source": [
    "#### 1)   Sum of all  DELTAX = Summation over Grid Cells (Counts-1)=TotalCounts-TotalCounts=0"
   ]
  },
  {
   "cell_type": "code",
   "execution_count": null,
   "metadata": {
    "collapsed": false
   },
   "outputs": [],
   "source": [
    "print 'Sum of delta x (NGP)        ',np.sum(ngp-1)\n",
    "print 'Sum of delta x (NGP_smooth) ',np.sum(ngps-1)\n",
    "print 'Sum of delta x (CIC)        ',np.sum(cic-1)\n",
    "print 'Sum of delta x (CIC_LOOP)   ',np.sum(cicl-1)\n"
   ]
  },
  {
   "cell_type": "markdown",
   "metadata": {},
   "source": [
    "#### 2)   Residues between different Interpolation"
   ]
  },
  {
   "cell_type": "code",
   "execution_count": null,
   "metadata": {
    "collapsed": false
   },
   "outputs": [],
   "source": [
    "fig=plt.figure(figsize=(15,15), dpi= 100, facecolor='w', edgecolor='k')\n",
    "plt.subplot(2,2,1)\n",
    "ngp_ngps ,edges = np.histogram((ngp-ngps),bins=100,normed = 1)\n",
    "plt.plot((edges[0:-1]+edges[1:])/2,ngp_ngps)\n",
    "plt.title('Residue between NGP-NGP smoothed R=0.004')\n",
    "plt.xlabel('Particle Counts off')\n",
    "plt.ylabel('Fraction of Grid Cells')\n",
    "#plt.ylim([0,1])\n",
    "plt.subplot(2,2,2)\n",
    "ngp_cic ,edges =np.histogram((ngp-cic),bins=100, normed = 1)\n",
    "plt.plot((edges[0:-1]+edges[1:])/2,ngp_cic)\n",
    "#plt.ylim([0,1])\n",
    "plt.title('Residue between NGP-CIC')\n",
    "plt.xlabel('Particle Counts off')\n",
    "plt.ylabel('Fraction of Grid Cells')\n",
    "plt.subplot(2,2,3)\n",
    "cic_ngps ,edges =np.histogram((cic-ngps),bins=100,normed = 1)\n",
    "plt.plot((edges[0:-1]+edges[1:])/2,cic_ngps)\n",
    "#plt.ylim([0,1])\n",
    "plt.title('Residue between CIC-NGP smoothed R=0.004')\n",
    "plt.xlabel('Particle Counts off')\n",
    "plt.ylabel('Fraction of Grid Cells')\n",
    "plt.subplot(2,2,4)\n",
    "cic_cicl ,edges =np.histogram((cic-cicl),bins=100,normed = 1)\n",
    "plt.plot((edges[0:-1]+edges[1:])/2,cic_cicl)\n",
    "#plt.ylim([0,1])\n",
    "plt.title('Residue between CIC-CIC loop')\n",
    "plt.xlabel('Particle Counts off')\n",
    "plt.ylabel('Fraction of Grid Cells')\n",
    "plt.show()"
   ]
  },
  {
   "cell_type": "code",
   "execution_count": null,
   "metadata": {
    "collapsed": false
   },
   "outputs": [],
   "source": [
    "X = Position[0,:,:,3].reshape([GridSize**2])\n",
    "Y = Position[1,:,:,3].reshape([GridSize**2])\n",
    "fig=plt.figure(figsize=(10,10), dpi= 100, facecolor='w', edgecolor='k')\n",
    "plt.subplot(2,2,1)\n",
    "plt.pcolor(x_array,x_array,deltax[:,:,3])\n",
    "plt.colorbar()\n",
    "#plt.gca().invert_yaxis()\n",
    "plt.scatter(Y,X,s=0.09,color='black')\n",
    "plt.axis([x_array.min(), x_array.max(), x_array.min(), x_array.max()])\n",
    "plt.gca().set_aspect('equal')\n",
    "plt.xlabel('Mpc/h')\n",
    "plt.ylabel('Mpc/h')\n",
    "plt.subplot(2,2,2)\n",
    "plt.pcolor(x_array,x_array,ngp[:,:,3],vmin=0,vmax=40)\n",
    "plt.axis([x_array.min(), x_array.max(), x_array.min(), x_array.max()])\n",
    "plt.gca().set_aspect('equal')\n",
    "plt.colorbar()\n",
    "plt.xlabel('Mpc/h')\n",
    "plt.ylabel('Mpc/h')\n",
    "plt.title('NGP')\n",
    "plt.subplot(2,2,3)\n",
    "plt.pcolor(x_array,x_array,ngps[:,:,3],vmin=0,vmax=40)\n",
    "plt.axis([x_array.min(), x_array.max(), x_array.min(), x_array.max()])\n",
    "plt.gca().set_aspect('equal')\n",
    "plt.xlabel('Mpc/h')\n",
    "plt.ylabel('Mpc/h')\n",
    "plt.colorbar()\n",
    "plt.title('NGP smoothed R=2dx')\n",
    "plt.subplot(2,2,4)\n",
    "plt.pcolor(x_array,x_array,cic[:,:,3],vmin=0,vmax=40)\n",
    "plt.axis([x_array.min(), x_array.max(), x_array.min(), x_array.max()])\n",
    "plt.gca().set_aspect('equal')\n",
    "plt.title(' CIC')\n",
    "plt.xlabel('Mpc/h')\n",
    "plt.ylabel('Mpc/h')\n",
    "plt.colorbar()\n",
    "\n",
    "plt.savefig('interpol1.png',dpi=100, bbox_inches='tight', pad_inches=0)\n",
    "plt.show()"
   ]
  },
  {
   "cell_type": "code",
   "execution_count": null,
   "metadata": {
    "collapsed": false
   },
   "outputs": [],
   "source": [
    "import numpy.ma as ma \n",
    "fig=plt.figure(figsize=(12,12), dpi= 100, facecolor='w', edgecolor='k')\n",
    "plt.subplot(2,2,1)\n",
    "plt.pcolor(x_array,x_array,deltax[:,:,3])\n",
    "plt.gca().invert_yaxis()\n",
    "plt.scatter(Y,X,s=0.09)\n",
    "\n",
    "#plt.title('Residue between NGP-NGP smoothed')\n",
    "#plt.xlabel('Particle Counts off')\n",
    "#plt.ylabel('Number of Grid Cells')\n",
    "plt.subplot(2,2,2)\n",
    "plt.imshow(ma.masked_invalid(np.log10(ngp[:,:,3])),vmin=-4.8,vmax=1.6)\n",
    "plt.colorbar()\n",
    "plt.title('NGP')\n",
    "#plt.xlabel('Particle Counts off')\n",
    "#plt.ylabel('Number of Grid Cells')\n",
    "plt.subplot(2,2,3)\n",
    "plt.imshow(ma.masked_invalid(np.log10(ngps[:,:,3])),vmin=-4.8,vmax=1.6)\n",
    "plt.colorbar()\n",
    "plt.title('NGP smoothed R=0.004')\n",
    "#plt.xlabel('Particle Counts off')\n",
    "#plt.ylabel('Number of Grid Cells')\n",
    "plt.subplot(2,2,4)\n",
    "plt.imshow(ma.masked_invalid(np.log10(cic[:,:,3])),vmin=-4.8,vmax=1.6)\n",
    "plt.title(' CIC')\n",
    "plt.colorbar()\n",
    "#plt.xlabel('Particle Counts off')\n",
    "#plt.ylabel('Number of Grid Cells')\n",
    "\n",
    "plt.show()"
   ]
  },
  {
   "cell_type": "code",
   "execution_count": null,
   "metadata": {
    "collapsed": true
   },
   "outputs": [],
   "source": []
  },
  {
   "cell_type": "code",
   "execution_count": null,
   "metadata": {
    "collapsed": true
   },
   "outputs": [],
   "source": []
  },
  {
   "cell_type": "code",
   "execution_count": null,
   "metadata": {
    "collapsed": true
   },
   "outputs": [],
   "source": []
  }
 ],
 "metadata": {
  "kernelspec": {
   "display_name": "Python 2",
   "language": "python",
   "name": "python2"
  },
  "language_info": {
   "codemirror_mode": {
    "name": "ipython",
    "version": 2
   },
   "file_extension": ".py",
   "mimetype": "text/x-python",
   "name": "python",
   "nbconvert_exporter": "python",
   "pygments_lexer": "ipython2",
   "version": "2.7.6"
  }
 },
 "nbformat": 4,
 "nbformat_minor": 2
}
