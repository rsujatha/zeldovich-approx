{
 "cells": [
  {
   "cell_type": "code",
   "execution_count": 38,
   "metadata": {
    "collapsed": true
   },
   "outputs": [],
   "source": [
    "import lpt as lp\n",
    "import numpy as np\n",
    "import matplotlib.pyplot as plt"
   ]
  },
  {
   "cell_type": "code",
   "execution_count": 39,
   "metadata": {
    "collapsed": true
   },
   "outputs": [],
   "source": [
    "Omega_matter = 0.3\n",
    "Omega_lambda = 0.7\n",
    "H_0=70\n",
    "ns=0.96\n",
    "sigma_8 = 0.8\n",
    "Omega_baryon = 0.045\n",
    "rs = 0\n",
    "ps =0\n",
    "g=0"
   ]
  },
  {
   "cell_type": "code",
   "execution_count": 40,
   "metadata": {},
   "outputs": [],
   "source": [
    "rms = np.zeros([100,1])\n",
    "for i in range(0,100):\n",
    "    lp = lp.LPT(GridSize=128, XSize = 100,Seed = None,\n",
    "                Omega_matter = Omega_matter,Omega_lambda = Omega_lambda,\n",
    "                H_0=H_0,ns=ns, sigma_8 = sigma_8 ,Omega_baryon = Omega_baryon,Poisson_Solver = ps,Gradient = g)\n",
    "    dx,dy,dz = lp.psi_vector(0)\n",
    "    sigmasquare = (dx**2 + dy**2 + dz**2).mean()\n",
    "    rms = np.sqrt(sigmasquare)\n"
   ]
  },
  {
   "cell_type": "code",
   "execution_count": 41,
   "metadata": {
    "collapsed": true
   },
   "outputs": [],
   "source": []
  },
  {
   "cell_type": "code",
   "execution_count": 42,
   "metadata": {
    "collapsed": true
   },
   "outputs": [],
   "source": []
  },
  {
   "cell_type": "code",
   "execution_count": 43,
   "metadata": {},
   "outputs": [
    {
     "name": "stdout",
     "output_type": "stream",
     "text": [
      "6.67664270763\n"
     ]
    }
   ],
   "source": [
    "print rms"
   ]
  },
  {
   "cell_type": "code",
   "execution_count": 12,
   "metadata": {},
   "outputs": [
    {
     "name": "stdout",
     "output_type": "stream",
     "text": [
      "7.30995720331\n"
     ]
    }
   ],
   "source": [
    "k = np.logspace(np.log10(lp.dk),np.log10(lp.GridSize*lp.dk/2),100)\n",
    "T = lp.BBKS_tf(k)\n",
    "P = lp.PS(k,0,T)\n",
    "SIGMASQ = np.trapz(P/(2*np.pi**2),k)\n",
    "print np.sqrt(SIGMASQ)"
   ]
  },
  {
   "cell_type": "code",
   "execution_count": 8,
   "metadata": {},
   "outputs": [
    {
     "name": "stdout",
     "output_type": "stream",
     "text": [
      "10.4396394829\n"
     ]
    }
   ],
   "source": [
    "k = np.logspace(-3,2,100)\n",
    "T = lp.BBKS_tf(k)\n",
    "P = lp.PS(k,0,T)\n",
    "SIGMASQ = np.trapz(P/(2*np.pi**2),k)\n",
    "print np.sqrt(SIGMASQ)"
   ]
  },
  {
   "cell_type": "code",
   "execution_count": 11,
   "metadata": {},
   "outputs": [
    {
     "name": "stdout",
     "output_type": "stream",
     "text": [
      "0.0628318530718 4.02123859659\n"
     ]
    }
   ],
   "source": [
    "print lp.dk,lp.GridSize*lp.dk/2"
   ]
  },
  {
   "cell_type": "code",
   "execution_count": null,
   "metadata": {
    "collapsed": true
   },
   "outputs": [],
   "source": []
  }
 ],
 "metadata": {
  "kernelspec": {
   "display_name": "Python 2",
   "language": "python",
   "name": "python2"
  },
  "language_info": {
   "codemirror_mode": {
    "name": "ipython",
    "version": 2
   },
   "file_extension": ".py",
   "mimetype": "text/x-python",
   "name": "python",
   "nbconvert_exporter": "python",
   "pygments_lexer": "ipython2",
   "version": "2.7.13"
  }
 },
 "nbformat": 4,
 "nbformat_minor": 2
}
